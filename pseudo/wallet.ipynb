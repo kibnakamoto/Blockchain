{
 "cells": [
  {
   "attachments": {},
   "cell_type": "markdown",
   "metadata": {},
   "source": [
    "# **Wallet in Kibcoin**\n",
    "\n",
    "## 1.0 &emsp; Calculate Fingerprint\n",
    "\n",
    "The fingerprint is used to verify that the message is not modified\n",
    "\n",
    "1. Calculate the 256-bit Advanced Encryption Standard (**AES-256**) key using Hash-based key deravation function using the 256-bit Secure Hashing Algorithm (**SHA-256**)\n",
    "2. Encrypt with Elliptic Cryptography Integrated Encryption Scheme (**ECIES**) using **AES-256**\n",
    "3. Generate tag with Hash-based Message Authentication Code (**HMAC**) using 512-bit Secure Hashing Algorithm (**SHA-512**). The first 4 bytes is the **fingerprint**\n",
    "\n",
    "$\n",
    "msg = random\\_bytes(16)\n",
    "\\\\K_A = HKDF_{SHA256}(shared\\_secret)\n",
    "\\\\fingerprint = HMAC_{SHA512}(msg, K_A)_{0-4}\n",
    "$\n",
    "\n",
    "## 1.1 &emsp; Calculate Checksum\n",
    "\n",
    "The checksum is \n",
    "\n",
    "1. Generate **checksum** by hashing fingerprint using SHA-512 and returning the first 4 bytes\n",
    "\n",
    "\n",
    "$\n",
    "checksum = SHA512(fingerprint)_{0-4}\n",
    "$\n",
    "\n",
    "\n",
    "## 1.2.0 &emsp; Verifying Secure Communication - **Sender**\n",
    "\n",
    "1. Calculate the ciphertext as showed\n",
    "\n",
    "$msg$ is defined in *Section 1.0*\n",
    "\n",
    "$\n",
    "C = AES256_e(msg)\n",
    "$\n",
    "\n",
    "2.  Send the Following to the receiver node\n",
    "\n",
    "$\n",
    "DATA = checksum \\vert\\vert C\n",
    "$\n",
    "\n",
    "send $DATA$\n",
    "\n",
    "where $\\vert\\vert$ represents concatination\n",
    "\n",
    "## 1.2.1 &emsp; Verifying Secure Communication - **Receiver**\n",
    "\n",
    "1. Calculate the Plaintext as showed\n",
    "\n",
    "\n",
    "$\n",
    "\\\\C = DATA_{4-...}\n",
    "\\\\P = AES256_d(C)\n",
    "\\\\fingerprint = HMAC_{SHA512}(P, K_A)_{0-4}\n",
    "\\\\checksum = SHA512(fingerprint)\n",
    "\\\\checksum\\_verified = checksum \\equiv DATA_{0-4}\n",
    "$\n",
    "\n",
    "if not $checksum\\_verified$:\n",
    "> print checksum not secure, secure connection not established\n",
    "> exit\n",
    "\n",
    "else:\n",
    "> print secure connection established\n",
    "\n",
    "where $\\vert\\vert$ represents concatination\n",
    "\n",
    "## 1.3 &emsp; \n"
   ]
  },
  {
   "cell_type": "markdown",
   "metadata": {},
   "source": []
  }
 ],
 "metadata": {
  "kernelspec": {
   "display_name": "Python 3",
   "language": "python",
   "name": "python3"
  },
  "language_info": {
   "name": "python",
   "version": "3.10.7 (main, Nov 24 2022, 19:45:47) [GCC 12.2.0]"
  },
  "orig_nbformat": 4,
  "vscode": {
   "interpreter": {
    "hash": "916dbcbb3f70747c44a77c7bcd40155683ae19c65e1c03b4aa3499c5328201f1"
   }
  }
 },
 "nbformat": 4,
 "nbformat_minor": 2
}

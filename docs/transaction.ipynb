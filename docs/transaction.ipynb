{
 "cells": [
  {
   "attachments": {},
   "cell_type": "markdown",
   "metadata": {},
   "source": [
    "# **Transactions in Kibcoin**\n",
    "\n",
    "## 1.0 &emsp; Transaction Hash Structure\n",
    "\n",
    "version = verison of blockchain - 4 bytes in hex\n",
    "\n",
    "prev_tx = previous verified transaction hash, from prev_mempool. get first value from prev_transaction then delete the prev_transaction from prev_mempool.\n",
    "\n",
    "signature = proof of ownership, ECDSA signature, defined in *Section 1.1*\n",
    "\n",
    "block_index = index of block\n",
    "\n",
    "public_key = public key of receiver\n",
    "\n",
    "\n",
    "#### **Hash**\n",
    "> SHA-512(version + prev_tx + signature + block_index + public_key) + time (YYYY-MM-DD HH:MM:SS.MMMMMM)\n",
    "\n",
    "time e.g = 2023-01-19 15:18:40.281829\n",
    "\n",
    "## 1.1 &emsp; Transaction Signature (Proof of Ownership)\n",
    "\n",
    "This is for proof of ownership of the private key. this is done using creating a secure communication between the nodes.\n",
    "\n",
    "1. Alice generates data to hash, double hashes it, and sends it to Bob with the ecdsa signature\n",
    "2. Bob, verifies the ecdsa signature using Alice's public key\n",
    "3. if Bob sucessfully verifies ecdsa signature, the transaction is valid and the signature is the proof of ownership\n",
    "\n",
    "## 1.1 &emsp; Receiver\n",
    "\n",
    "The receiver receives and verifies the signature, since the amount is given, the receiver creates new transaction data that is signed with its own private key. The sent transaction hash and signature is proof that the money didn't spawn out of thin air\n",
    "\n",
    "## 2.0 &emsp; Final\n",
    "\n",
    "1. Add transaction to mempool\n",
    "2. verify ownership, mine, add to block if valid. Else delete\n",
    "\n"
   ]
  }
 ],
 "metadata": {
  "kernelspec": {
   "display_name": "Python 3",
   "language": "python",
   "name": "python3"
  },
  "language_info": {
   "codemirror_mode": {
    "name": "ipython",
    "version": 3
   },
   "file_extension": ".py",
   "mimetype": "text/x-python",
   "name": "python",
   "nbconvert_exporter": "python",
   "pygments_lexer": "ipython3",
   "version": "3.10.7 (main, Nov 24 2022, 19:45:47) [GCC 12.2.0]"
  },
  "orig_nbformat": 4,
  "vscode": {
   "interpreter": {
    "hash": "916dbcbb3f70747c44a77c7bcd40155683ae19c65e1c03b4aa3499c5328201f1"
   }
  }
 },
 "nbformat": 4,
 "nbformat_minor": 2
}

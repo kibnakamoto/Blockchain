{
 "cells": [
  {
   "attachments": {},
   "cell_type": "markdown",
   "metadata": {},
   "source": [
    "# **Blocks in Kibcoin**\n",
    "\n",
    "## 1.0 &emsp; Block Headers Structure\n",
    "\n",
    "The block header contains three sets of block metadata. It is an 80-byte long string, and it is comprised of the\n",
    "4-byte long Bitcoin version number, 32-byte previous block hash, 32-byte long Merkle root, 4-byte long timestamp\n",
    "of the block, 4-byte long difficulty target for the block, and the 4-byte long nonce used by miners.  \n",
    "\n",
    "1. 4-byte version number\n",
    "2. 64-byte previous block hash\n",
    "3. 64-byte Merkle root\n",
    "4. 26-byte timestamp\n",
    "5. 8-byte bits\n",
    "6. 8-byte nonce\n",
    "\n",
    "target is kept in a compressed form called bits, the first 8 bytes of target\n",
    "\n",
    "## 1.1 &emsp; Block Mining\n",
    "\n",
    "For a block to be mined, the block header hash has to be smaller than target hash. Target hash is updated once every 2 weeks or so based on timestamps of blocks. If they are calculated too easily, the target hash will be smaller, otherwise bigger. This is the *difficulty* of mining."
   ]
  }
 ],
 "metadata": {
  "kernelspec": {
   "display_name": "Python 3",
   "language": "python",
   "name": "python3"
  },
  "language_info": {
   "name": "python",
   "version": "3.10.7 (main, Nov 24 2022, 19:45:47) [GCC 12.2.0]"
  },
  "orig_nbformat": 4,
  "vscode": {
   "interpreter": {
    "hash": "916dbcbb3f70747c44a77c7bcd40155683ae19c65e1c03b4aa3499c5328201f1"
   }
  }
 },
 "nbformat": 4,
 "nbformat_minor": 2
}

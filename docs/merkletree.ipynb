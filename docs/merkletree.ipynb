{
 "cells": [
  {
   "attachments": {},
   "cell_type": "markdown",
   "metadata": {},
   "source": [
    "\n",
    "# **Merkle Tree in Kibcoin**\n",
    "\n",
    "## &emsp; Merkle Tree Pseudo-Code\n",
    "\n",
    "```\n",
    "from ecc import sha512\n",
    "\n",
    "class MerkleTreeNode:\n",
    "    // default class contructor\n",
    "    function MerkleTreeNode(data):\n",
    "        obj.left = None\n",
    "        obj.right = None\n",
    "        obj.data = data\n",
    "        obj.hash = sha512.Sha512(obj.data.encode('utf-8')).hexdigest()\n",
    "\n",
    "class MerkleTree:\n",
    "    // default class constructor\n",
    "    function MerkleTree(transactions):\n",
    "        obj.transactions = transactions\n",
    "\n",
    "function get_root():\n",
    "    nodes = list()\n",
    "    for transaction in obj.transactions:\n",
    "        nodes.append(MerkleTreeNode(transaction))\n",
    "\n",
    "    while nodes.length != 1:\n",
    "        temp = list()\n",
    "        for i from 0 to nodes.length(), increment by 2; do\n",
    "            node1 = nodes[i]\n",
    "            if i+1 < nodes.length(); do\n",
    "                node2 = nodes[i+1]\n",
    "            else; do\n",
    "                temp.append(nodes[i])\n",
    "                break\n",
    "            node_data = node1.hash + node2.hash\n",
    "            node = MerkleTreeNode(node_data)\n",
    "            node.left = node1\n",
    "            node.right = node2\n",
    "            temp.append(node)\n",
    "        nodes = temp \n",
    "    return nodes[0].hash\n",
    "\n",
    "// testing\n",
    "hashes = list()\n",
    "for i from 0 to 4; do\n",
    "    hashes.append(sha512.Sha512(string(i).encode()).hexdigest())\n",
    "\n",
    "print(hashes)\n",
    "\n",
    "merkletree = MerkleTree(hashes)\n",
    "merkletree.get_root()\n",
    "\n",
    "// result should be ab8aeec9d2015e1143c381d950cbd7ef375446f9dbcf3f7e5eea28816d10c17c8454829a6195b2e5c96eb775af45704b7d5ebacf7ef3d220dbfca0451704231b \n",
    "\n",
    "```"
   ]
  }
 ],
 "metadata": {
  "kernelspec": {
   "display_name": "Python 3",
   "language": "python",
   "name": "python3"
  },
  "language_info": {
   "name": "python",
   "version": "3.10.7 (main, Nov 24 2022, 19:45:47) [GCC 12.2.0]"
  },
  "orig_nbformat": 4,
  "vscode": {
   "interpreter": {
    "hash": "916dbcbb3f70747c44a77c7bcd40155683ae19c65e1c03b4aa3499c5328201f1"
   }
  }
 },
 "nbformat": 4,
 "nbformat_minor": 2
}

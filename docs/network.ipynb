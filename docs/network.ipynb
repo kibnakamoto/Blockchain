{
 "cells": [
  {
   "attachments": {},
   "cell_type": "markdown",
   "metadata": {},
   "source": [
    "# **Networking in Kibcoin**\n",
    "\n",
    "## 1.0 &emsp; Communication Protocol for Wallet Verification\n",
    "\n",
    "two people (Alice, Bob) want to communicate. Alice wants money to send to Bob.\n",
    "\n",
    "1. Bob sends Alice public key\n",
    "2. Alice sends Bob public key\n",
    "3. They both come up with a shared-secret, alice encrypts a random 16-byte message and sends it to Bob as well as the checksum\n",
    "4. Bob receives message and decrypts it. Generates checksum and checks if the checksum is valid.\n",
    "5. if Bob's checksum is valid, Alice can send transaction. Otherwise, communication is not secure."
   ]
  }
 ],
 "metadata": {
  "kernelspec": {
   "display_name": "Python 3 (ipykernel)",
   "language": "python",
   "name": "python3"
  },
  "orig_nbformat": 4,
  "vscode": {
   "interpreter": {
    "hash": "916dbcbb3f70747c44a77c7bcd40155683ae19c65e1c03b4aa3499c5328201f1"
   }
  }
 },
 "nbformat": 4,
 "nbformat_minor": 2
}
